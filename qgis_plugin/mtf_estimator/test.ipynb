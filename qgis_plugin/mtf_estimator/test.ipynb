{
 "cells": [
  {
   "cell_type": "markdown",
   "id": "ce0df2f0-c8a3-47dc-a898-2199a00ffdde",
   "metadata": {
    "tags": []
   },
   "source": [
    "Sample use of the algorithm with Jupyter."
   ]
  },
  {
   "cell_type": "markdown",
   "id": "a9a1bec7-f84f-4987-98aa-a070a72d7520",
   "metadata": {
    "tags": []
   },
   "source": [
    "# Notebook initialization\n",
    "## Download module"
   ]
  },
  {
   "cell_type": "code",
   "execution_count": null,
   "id": "dea42c21-6e00-44ce-b2be-2250a7cbc619",
   "metadata": {
    "tags": []
   },
   "outputs": [],
   "source": [
    "import os\n",
    "import urllib.request\n",
    "import importlib\n",
    "import matplotlib.pyplot as plt\n",
    "plt.close('all')\n",
    "\n",
    "# if not os.path.isfile('mtf_estimator_algorithm.py'):\n",
    "#     urllib.request.urlretrieve('https://raw.githubusercontent.com/JorgeGIlG/MTF_Estimator/devel/qgis_plugin/mtf_estimator/mtf_estimator_algorithm.py',\n",
    "#                                'mtf_estimator_algorithm.py')\n"
   ]
  },
  {
   "cell_type": "markdown",
   "id": "77a0e735-f321-4c7e-84a8-7e07879d4b4b",
   "metadata": {
    "tags": []
   },
   "source": [
    "## Download sample image"
   ]
  },
  {
   "cell_type": "code",
   "execution_count": null,
   "id": "0574a59d-8c5f-4fb8-93df-ce05587ece26",
   "metadata": {
    "tags": []
   },
   "outputs": [],
   "source": [
    "# if not os.path.isfile('baotou_CALVAL_L0R_000000_20200328T032332_202003T032334_MTF_12196_7333.tif'):\n",
    "#     urllib.request.urlretrieve('https://github.com/JorgeGIlG/MTF_Estimator/raw/devel/data/baotou_CALVAL_L0R_000000_20200328T032332_202003T032334_MTF_12196_7333.tif',\n",
    "#                                'baotou_CALVAL_L0R_000000_20200328T032332_202003T032334_MTF_12196_7333.tif')\n"
   ]
  },
  {
   "cell_type": "code",
   "execution_count": null,
   "id": "04566542-202d-437e-8e8c-c0e1016f0acb",
   "metadata": {
    "tags": []
   },
   "outputs": [],
   "source": [
    "import mtf_estimator_algorithm\n",
    "import osgeo\n",
    "import numpy as np\n",
    "from osgeo import ogr, osr, gdal\n",
    "importlib.reload(mtf_estimator_algorithm)\n",
    "\n",
    "%matplotlib widget\n"
   ]
  },
  {
   "cell_type": "markdown",
   "id": "7c2f08e1-1451-4ced-af80-e5ad045c52c5",
   "metadata": {
    "tags": []
   },
   "source": [
    "# Declare inputs"
   ]
  },
  {
   "cell_type": "raw",
   "id": "e0cab828-5ad5-490e-81f5-67f69bbd6a1b",
   "metadata": {
    "tags": []
   },
   "source": [
    "You can use QGIS to obtain the AoI in WKT.\n",
    "\n",
    "Install \"Get WKT\" plugin\n",
    "Create a new layer (e.g. a temporary scratch layer) of type polygon\n",
    "Draw your area of interest\n",
    "Select the feature\n",
    "Click on the \"Get WKT\" plugin icon"
   ]
  },
  {
   "cell_type": "code",
   "execution_count": null,
   "id": "4c24951a-d4af-4843-87e2-e54af55958b4",
   "metadata": {
    "tags": []
   },
   "outputs": [],
   "source": [
    "\n",
    "\n",
    "# Raster to mask and crop using Aoi_Wkt\n",
    "Image_File = 'image-for-psf-0-loc1.png'\n",
    "# Band number. First is 1\n",
    "Band_n = 1\n"
   ]
  },
  {
   "cell_type": "markdown",
   "id": "eb50e800-9cc5-4f9a-b613-4a618ba97266",
   "metadata": {
    "tags": []
   },
   "source": [
    "# Read, mask and crop input file"
   ]
  },
  {
   "cell_type": "code",
   "execution_count": null,
   "id": "68e3dd0a-3e93-4e4b-88ef-69f3d1ffa57f",
   "metadata": {
    "tags": []
   },
   "outputs": [],
   "source": [
    "def process(Aoi_Wkt):\n",
    "    gdal_layer = gdal.Open(Image_File, gdal.GA_ReadOnly)\n",
    "    gt = list(gdal_layer.GetGeoTransform())\n",
    "    xsize = gdal_layer.RasterXSize\n",
    "    ysize = gdal_layer.RasterYSize\n",
    "    band = gdal_layer.GetRasterBand(Band_n)\n",
    "    raster_srs = osr.SpatialReference()\n",
    "    raster_srs.ImportFromWkt(gdal_layer.GetProjection())\n",
    "    vector_srs = raster_srs\n",
    "\n",
    "\n",
    "    # https://gdal.org/tutorials/osr_api_tut.html#crs-and-axis-order\n",
    "    if int(osgeo.__version__[0]) >= 3:\n",
    "        # GDAL 3 changes axis order: https://github.com/OSGeo/gdal/issues/1546\n",
    "        raster_srs.SetAxisMappingStrategy(osgeo.osr.OAMS_TRADITIONAL_GIS_ORDER)\n",
    "        vector_srs.SetAxisMappingStrategy(osgeo.osr.OAMS_TRADITIONAL_GIS_ORDER)\n",
    "\n",
    "    if str(raster_srs) == '':\n",
    "        coord_transform = None\n",
    "        # self.console('WARNING: Raster with no CRS')\n",
    "        gt[5] = -1*gt[5]\n",
    "    else:\n",
    "        coord_transform = osr.CoordinateTransformation(vector_srs, raster_srs)\n",
    "\n",
    "\n",
    "    memlayer_drv = ogr.GetDriverByName('Memory')\n",
    "    memlayer_ds = memlayer_drv.CreateDataSource('')\n",
    "    memlayer = memlayer_ds.CreateLayer('aoi', raster_srs, geom_type=ogr.wkbPolygon)\n",
    "    memlayer.CreateField(ogr.FieldDefn('id', ogr.OFTInteger))\n",
    "    featureDefn = memlayer.GetLayerDefn()\n",
    "    memfeat = ogr.Feature(featureDefn)\n",
    "    geom = ogr.CreateGeometryFromWkt(Aoi_Wkt)\n",
    "    if not coord_transform is None:\n",
    "        geom.Transform(coord_transform)\n",
    "\n",
    "    memfeat.SetGeometry(geom)\n",
    "    memlayer.CreateFeature(memfeat)\n",
    "\n",
    "    # Get extent in raster coords\n",
    "    e = np.array(memlayer.GetExtent()).copy()\n",
    "    e = np.reshape(e, [2, 2])\n",
    "    e = np.array(np.meshgrid(e[0], e[1]))\n",
    "    E = e.T.reshape(-1, 2)\n",
    "    m = np.reshape(np.array(gt).copy(), [2, 3])\n",
    "    A = m[:, 0]\n",
    "    m = m[:, 1:]\n",
    "    M = np.linalg.inv(m)\n",
    "    col_list, row_list = np.matmul(M, (E-A).T)\n",
    "    pxoffset = 5\n",
    "    col_min = int(np.max([np.floor(np.min(col_list)) - pxoffset, 1]))\n",
    "    col_max = int(np.min([np.ceil(np.max(col_list))+pxoffset, xsize-1]))\n",
    "    row_min = int(np.max([np.floor(np.min(row_list)) - pxoffset, 1]))\n",
    "    row_max = int(np.min([np.ceil(np.max(row_list))+pxoffset, ysize-1]))\n",
    "    sub_gt = gt\n",
    "    sub_gt[0] = gt[0] + gt[1]*col_min + gt[2]*row_min\n",
    "    sub_gt[3] = gt[3] + gt[4]*col_min + gt[5]*row_min\n",
    "    sub_xsize = int(col_max-col_min)\n",
    "    sub_ysize = int(row_max-row_min)\n",
    "\n",
    "    memraster_drv = gdal.GetDriverByName('MEM')\n",
    "    print(sub_xsize, sub_ysize)\n",
    "    memraster = memraster_drv.Create('', sub_xsize, sub_ysize, 1, band.DataType)\n",
    "\n",
    "    memraster.SetProjection(gdal_layer.GetProjection())\n",
    "    memraster.SetGeoTransform(sub_gt)\n",
    "    memband = memraster.GetRasterBand(1)\n",
    "    memband.WriteArray(np.zeros([sub_ysize, sub_xsize]))\n",
    "    gdal.RasterizeLayer(memraster, [1], memlayer, burn_values=[1])\n",
    "    mask = memband.ReadAsArray(0, 0, sub_xsize, sub_ysize)\n",
    "    memband.WriteArray(mask*band.ReadAsArray(col_min, row_min, sub_xsize, sub_ysize))\n",
    "    mask = None\n",
    "    return memraster\n"
   ]
  },
  {
   "cell_type": "markdown",
   "id": "a3311556-5e8a-4cb8-bdfc-0ffa58c6ff67",
   "metadata": {
    "tags": []
   },
   "source": [
    "# Run algorithm"
   ]
  },
  {
   "cell_type": "code",
   "execution_count": null,
   "id": "5e062b30-2bc6-40c9-86f0-c80e1a425dda",
   "metadata": {
    "tags": []
   },
   "outputs": [],
   "source": [
    "importlib.reload(mtf_estimator_algorithm)\n",
    "# Area of Interest polygon in WKT\n",
    "# Aoi_Wkt = '''\n",
    "# Polygon ((\n",
    "# 584 -175,\n",
    "# 630 -184,\n",
    "# 593 -297,\n",
    "# 549 -289,\n",
    "# 584 -175\n",
    "# ))\n",
    "# '''\n",
    "\n",
    "# Aoi_Wkt = '''\n",
    "# Polygon ((\n",
    "# 100 -10,\n",
    "# 632 -10,\n",
    "# 632 -445,\n",
    "# 100 -445,\n",
    "# 100 -10\n",
    "# ))\n",
    "# '''\n",
    "\n",
    "\n",
    "# Aoi_Wkt = '''\n",
    "# Polygon ((586.67413213885777168 -173.40201567749164724, 553.65733482642781382 -288.25531914893622343, 584.13437849944011759 -299.82530795072790397, 617.9977603583427026 -181.58566629339310339, 586.67413213885777168 -173.40201567749164724))'''\n",
    "\n",
    "# Aoi_Wkt = '''\n",
    "# Polygon ((577.88654060066733109 -174.47719688542827043, 632.26696329254718876 -188.49276974416017083, 597.50834260289207123 -304.82202447163518855, 538.92324805339262639 -280.99555061179091808, 577.88654060066733109 -174.47719688542827043))\n",
    "# '''\n",
    "\n",
    "Aoi_Wkt = '''Polygon ((589.09899888765289688 -177.28031145717466188, 617.13014460511681136 -185.40934371523917434, 603.95550611790872608 -220.16796440489434872, 580.12903225806451246 -212.31924360400444129, 589.09899888765289688 -177.28031145717466188))'''\n",
    "\n",
    "# Aoi_Wkt = '''Polygon ((572.2803114571745482 -174.19688542825360855, 634.78976640711903201 -190.73526140155729536, 603.11457174638485412 -300.33704115684093949, 538.08231368186875443 -280.15461624026698928, 572.2803114571745482 -174.19688542825360855))'''\n",
    "\n",
    "\n",
    "mtf_estimator_algorithm.Mtf(process(Aoi_Wkt))\n"
   ]
  },
  {
   "cell_type": "code",
   "execution_count": null,
   "id": "93b364d3-6c51-43bc-a4bd-4f8ae6386bd5",
   "metadata": {},
   "outputs": [],
   "source": [
    "# def sigmoid(x, a, b, l, s):\n",
    "#     return a+b*(1/(1+np.power(np.e, -l*(x+s))))\n",
    "\n",
    "def test(L=None):\n",
    "    import matplotlib.pyplot as plt\n",
    "    x = [-9.95768915383951, 9.97456435677212]\n",
    "    OverSampFreq = np.float64(1e3)   \n",
    "    a, b, l, s, optSmooth = 0.009548118522661594, 0.9765408418125651, 2.883940582009699, 0.004689178501557088, 0.13395440581238172\n",
    "    if L is not None:\n",
    "        l = L\n",
    "    xAux = np.arange(np.min(x), np.max(x), step=1/OverSampFreq)    \n",
    "    S = mtf_estimator_algorithm.sigmoid(xAux, a, b, l, s)\n",
    "    fig, ax = plt.subplots(1,1)\n",
    "    ax.plot(xAux, S, '.')\n",
    "   \n",
    "    def get_position(data, value):\n",
    "        return np.argmin(np.abs(data-value))\n",
    "\n",
    "\n",
    "\n",
    "    center_pos = get_position(S, s)    \n",
    "    max_pos = get_position(S[center_pos:], np.quantile(S[center_pos:], 0.75))\n",
    "    distance_pos = max_pos - center_pos\n",
    "    ax.plot(xAux[center_pos - distance_pos:center_pos + distance_pos], S[center_pos - distance_pos:center_pos + distance_pos], '.')\n",
    "    \n",
    "test()\n",
    "test(L=1)"
   ]
  },
  {
   "cell_type": "code",
   "execution_count": null,
   "id": "133935b5",
   "metadata": {},
   "outputs": [],
   "source": [
    "# def sigmoid(x, a, b, l, s):\n",
    "#     return a+b*(1/(1+np.power(np.e, -l*(x+s))))\n",
    "\n",
    "def test(L=None):\n",
    "    import numpy as np\n",
    "    import matplotlib.pyplot as plt\n",
    "\n",
    "    def derivative(x):\n",
    "        return (b * l) / (np.exp(l * (s + x)) * (1 + np.exp(-l * (s + x)))**2)\n",
    "\n",
    "    x = [-9.95768915383951, 9.97456435677212]\n",
    "    OverSampFreq = np.float64(1e3)   \n",
    "    a, b, l, s, optSmooth = 0.009548118522661594, 0.9765408418125651, 2.883940582009699, 0.004689178501557088, 0.13395440581238172\n",
    "    if L is not None:\n",
    "        l = L\n",
    "    xAux = np.arange(np.min(x), np.max(x), step=1/OverSampFreq)    \n",
    "    S = mtf_estimator_algorithm.sigmoid(xAux, a, b, l, s)\n",
    "    fig, ax = plt.subplots(1,1)\n",
    "    ax.plot(xAux, S, '.')\n",
    "   \n",
    "    tax = ax.twinx()\n",
    "    tax.plot(xAux, derivative(xAux))\n",
    "\n",
    "\n",
    "\n",
    "    \n",
    "test()\n",
    "            \n",
    "\n",
    "\n"
   ]
  },
  {
   "cell_type": "code",
   "execution_count": null,
   "id": "0de49fbe",
   "metadata": {},
   "outputs": [],
   "source": [
    "def _arr_to_scalar(x):\n",
    "    # If x is a numpy array, return x.item().  This will\n",
    "    # fail if the array has more than one element.\n",
    "    return x.item() if isinstance(x, np.ndarray) else x\n",
    "\n",
    "def old_bound_to_new(bounds):\n",
    "    \"\"\"Convert the old bounds representation to the new one.\n",
    "\n",
    "    The new representation is a tuple (lb, ub) and the old one is a list\n",
    "    containing n tuples, ith containing lower and upper bound on a ith\n",
    "    variable.\n",
    "    If any of the entries in lb/ub are None they are replaced by\n",
    "    -np.inf/np.inf.\n",
    "    \"\"\"\n",
    "\n",
    "    lb, ub = zip(*bounds)\n",
    "\n",
    "    # Convert occurrences of None to -inf or inf, and replace occurrences of\n",
    "    # any numpy array x with x.item(). Then wrap the results in numpy arrays.\n",
    "    lb = np.array([float(_arr_to_scalar(x)) if x is not None else -np.inf\n",
    "                   for x in lb])\n",
    "    ub = np.array([float(_arr_to_scalar(x)) if x is not None else np.inf\n",
    "                   for x in ub])\n",
    "\n",
    "    return lb, ub\n",
    "\n",
    "bounds = [(1e-5, 100.)]\n",
    "old_bound_to_new(bounds)"
   ]
  },
  {
   "cell_type": "code",
   "execution_count": null,
   "id": "bb42aa63",
   "metadata": {},
   "outputs": [],
   "source": []
  }
 ],
 "metadata": {
  "kernelspec": {
   "display_name": "Python 3 (ipykernel)",
   "language": "python",
   "name": "python3"
  },
  "language_info": {
   "codemirror_mode": {
    "name": "ipython",
    "version": 3
   },
   "file_extension": ".py",
   "mimetype": "text/x-python",
   "name": "python",
   "nbconvert_exporter": "python",
   "pygments_lexer": "ipython3",
   "version": "3.10.12"
  }
 },
 "nbformat": 4,
 "nbformat_minor": 5
}

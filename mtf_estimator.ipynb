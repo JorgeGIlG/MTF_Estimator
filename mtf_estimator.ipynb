{
 "cells": [
  {
   "cell_type": "markdown",
   "id": "ce0df2f0-c8a3-47dc-a898-2199a00ffdde",
   "metadata": {
    "tags": []
   },
   "source": [
    "Sample use of the algorithm with Jupyter."
   ]
  },
  {
   "cell_type": "markdown",
   "id": "a9a1bec7-f84f-4987-98aa-a070a72d7520",
   "metadata": {
    "tags": []
   },
   "source": [
    "# Notebook initialization\n",
    "## Download module"
   ]
  },
  {
   "cell_type": "code",
   "execution_count": null,
   "id": "dea42c21-6e00-44ce-b2be-2250a7cbc619",
   "metadata": {
    "tags": []
   },
   "outputs": [],
   "source": [
    "import os\n",
    "import urllib.request\n",
    "\n",
    "if not os.path.isfile('mtf_estimator_algorithm.py'):\n",
    "    urllib.request.urlretrieve('https://raw.githubusercontent.com/JorgeGIlG/MTF_Estimator/devel/qgis_plugin/mtf_estimator/mtf_estimator_algorithm.py',\n",
    "                               'mtf_estimator_algorithm.py')\n"
   ]
  },
  {
   "cell_type": "markdown",
   "id": "77a0e735-f321-4c7e-84a8-7e07879d4b4b",
   "metadata": {
    "tags": []
   },
   "source": [
    "## Download sample image"
   ]
  },
  {
   "cell_type": "code",
   "execution_count": null,
   "id": "0574a59d-8c5f-4fb8-93df-ce05587ece26",
   "metadata": {
    "tags": []
   },
   "outputs": [],
   "source": [
    "if not os.path.isfile('baotou_CALVAL_L0R_000000_20200328T032332_202003T032334_MTF_12196_7333.tif'):\n",
    "    urllib.request.urlretrieve('https://github.com/JorgeGIlG/MTF_Estimator/raw/devel/data/baotou_CALVAL_L0R_000000_20200328T032332_202003T032334_MTF_12196_7333.tif',\n",
    "                               'baotou_CALVAL_L0R_000000_20200328T032332_202003T032334_MTF_12196_7333.tif')\n"
   ]
  },
  {
   "cell_type": "code",
   "execution_count": null,
   "id": "04566542-202d-437e-8e8c-c0e1016f0acb",
   "metadata": {
    "tags": []
   },
   "outputs": [],
   "source": [
    "import mtf_estimator_algorithm\n",
    "import osgeo\n",
    "import numpy as np\n",
    "from osgeo import ogr, osr, gdal\n",
    "\n",
    "%matplotlib widget\n"
   ]
  },
  {
   "cell_type": "markdown",
   "id": "7c2f08e1-1451-4ced-af80-e5ad045c52c5",
   "metadata": {
    "tags": []
   },
   "source": [
    "# Declare inputs"
   ]
  },
  {
   "cell_type": "raw",
   "id": "e0cab828-5ad5-490e-81f5-67f69bbd6a1b",
   "metadata": {
    "tags": []
   },
   "source": [
    "You can use QGIS to obtain the AoI in WKT.\n",
    "\n",
    "Install \"Get WKT\" plugin\n",
    "Create a new layer (e.g. a temporary scratch layer) of type polygon\n",
    "Draw your area of interest\n",
    "Select the feature\n",
    "Click on the \"Get WKT\" plugin icon"
   ]
  },
  {
   "cell_type": "code",
   "execution_count": null,
   "id": "4c24951a-d4af-4843-87e2-e54af55958b4",
   "metadata": {
    "tags": []
   },
   "outputs": [],
   "source": [
    "# Area of Interest polygon in WKT\n",
    "Aoi_Wkt = '''\n",
    "Polygon ((29.32538932146828614 -37.22900444938820641, \n",
    "83.82494438264737369 -52.0925194660734121, \n",
    "90.31298665183538787 -25.78645717463848186, \n",
    "25.66849276974415517 -9.27144048943269894, \n",
    "29.32538932146828614 -37.22900444938820641))\n",
    "'''\n",
    "\n",
    "# Raster to mask and crop using Aoi_Wkt\n",
    "Image_File = 'baotou_CALVAL_L0R_000000_20200328T032332_202003T032334_MTF_12196_7333.tif'\n",
    "# Band number. First is 1\n",
    "Band_n = 1\n"
   ]
  },
  {
   "cell_type": "markdown",
   "id": "eb50e800-9cc5-4f9a-b613-4a618ba97266",
   "metadata": {
    "tags": []
   },
   "source": [
    "# Read, mask and crop input file"
   ]
  },
  {
   "cell_type": "code",
   "execution_count": null,
   "id": "68e3dd0a-3e93-4e4b-88ef-69f3d1ffa57f",
   "metadata": {
    "tags": []
   },
   "outputs": [],
   "source": [
    "gdal_layer = gdal.Open(Image_File, gdal.GA_ReadOnly)\n",
    "gt = list(gdal_layer.GetGeoTransform())\n",
    "xsize = gdal_layer.RasterXSize\n",
    "ysize = gdal_layer.RasterYSize\n",
    "band = gdal_layer.GetRasterBand(Band_n)\n",
    "raster_srs = osr.SpatialReference()\n",
    "raster_srs.ImportFromWkt(gdal_layer.GetProjection())\n",
    "vector_srs = raster_srs\n",
    "\n",
    "\n",
    "# https://gdal.org/tutorials/osr_api_tut.html#crs-and-axis-order\n",
    "if int(osgeo.__version__[0]) >= 3:\n",
    "    # GDAL 3 changes axis order: https://github.com/OSGeo/gdal/issues/1546\n",
    "    raster_srs.SetAxisMappingStrategy(osgeo.osr.OAMS_TRADITIONAL_GIS_ORDER)\n",
    "    vector_srs.SetAxisMappingStrategy(osgeo.osr.OAMS_TRADITIONAL_GIS_ORDER)\n",
    "\n",
    "if str(raster_srs) == '':\n",
    "    coord_transform = None\n",
    "    # self.console('WARNING: Raster with no CRS')\n",
    "    gt[5] = -1*gt[5]\n",
    "else:\n",
    "    coord_transform = osr.CoordinateTransformation(vector_srs, raster_srs)\n",
    "\n",
    "\n",
    "memlayer_drv = ogr.GetDriverByName('Memory')\n",
    "memlayer_ds = memlayer_drv.CreateDataSource('')\n",
    "memlayer = memlayer_ds.CreateLayer('aoi', raster_srs, geom_type=ogr.wkbPolygon)\n",
    "memlayer.CreateField(ogr.FieldDefn('id', ogr.OFTInteger))\n",
    "featureDefn = memlayer.GetLayerDefn()\n",
    "memfeat = ogr.Feature(featureDefn)\n",
    "geom = ogr.CreateGeometryFromWkt(Aoi_Wkt)\n",
    "if not coord_transform is None:\n",
    "    geom.Transform(coord_transform)\n",
    "\n",
    "memfeat.SetGeometry(geom)\n",
    "memlayer.CreateFeature(memfeat)\n",
    "\n",
    "# Get extent in raster coords\n",
    "e = np.array(memlayer.GetExtent()).copy()\n",
    "e = np.reshape(e, [2, 2])\n",
    "e = np.array(np.meshgrid(e[0], e[1]))\n",
    "E = e.T.reshape(-1, 2)\n",
    "m = np.reshape(np.array(gt).copy(), [2, 3])\n",
    "A = m[:, 0]\n",
    "m = m[:, 1:]\n",
    "M = np.linalg.inv(m)\n",
    "col_list, row_list = np.matmul(M, (E-A).T)\n",
    "pxoffset = 5\n",
    "col_min = int(np.max([np.floor(np.min(col_list)) - pxoffset, 1]))\n",
    "col_max = int(np.min([np.ceil(np.max(col_list))+pxoffset, xsize-1]))\n",
    "row_min = int(np.max([np.floor(np.min(row_list)) - pxoffset, 1]))\n",
    "row_max = int(np.min([np.ceil(np.max(row_list))+pxoffset, ysize-1]))\n",
    "sub_gt = gt\n",
    "sub_gt[0] = gt[0] + gt[1]*col_min + gt[2]*row_min\n",
    "sub_gt[3] = gt[3] + gt[4]*col_min + gt[5]*row_min\n",
    "sub_xsize = int(col_max-col_min)\n",
    "sub_ysize = int(row_max-row_min)\n",
    "\n",
    "memraster_drv = gdal.GetDriverByName('MEM')\n",
    "memraster = memraster_drv.Create('', sub_xsize, sub_ysize, 1, band.DataType)\n",
    "\n",
    "memraster.SetProjection(gdal_layer.GetProjection())\n",
    "memraster.SetGeoTransform(sub_gt)\n",
    "memband = memraster.GetRasterBand(1)\n",
    "memband.WriteArray(np.zeros([sub_ysize, sub_xsize]))\n",
    "gdal.RasterizeLayer(memraster, [1], memlayer, burn_values=[1])\n",
    "mask = memband.ReadAsArray(0, 0, sub_xsize, sub_ysize)\n",
    "memband.WriteArray(mask*band.ReadAsArray(col_min, row_min, sub_xsize, sub_ysize))\n",
    "mask = None\n"
   ]
  },
  {
   "cell_type": "markdown",
   "id": "a3311556-5e8a-4cb8-bdfc-0ffa58c6ff67",
   "metadata": {
    "tags": []
   },
   "source": [
    "# Run algorithm"
   ]
  },
  {
   "cell_type": "code",
   "execution_count": null,
   "id": "5e062b30-2bc6-40c9-86f0-c80e1a425dda",
   "metadata": {
    "tags": []
   },
   "outputs": [],
   "source": [
    "mtf_estimator_algorithm.Mtf(memraster)\n"
   ]
  },
  {
   "cell_type": "code",
   "execution_count": null,
   "id": "93b364d3-6c51-43bc-a4bd-4f8ae6386bd5",
   "metadata": {},
   "outputs": [],
   "source": []
  }
 ],
 "metadata": {
  "kernelspec": {
   "display_name": "Python 3 (ipykernel)",
   "language": "python",
   "name": "python3"
  },
  "language_info": {
   "codemirror_mode": {
    "name": "ipython",
    "version": 3
   },
   "file_extension": ".py",
   "mimetype": "text/x-python",
   "name": "python",
   "nbconvert_exporter": "python",
   "pygments_lexer": "ipython3",
   "version": "3.10.6"
  }
 },
 "nbformat": 4,
 "nbformat_minor": 5
}
